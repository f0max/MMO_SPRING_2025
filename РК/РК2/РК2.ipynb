{
  "nbformat": 4,
  "nbformat_minor": 0,
  "metadata": {
    "colab": {
      "provenance": [],
      "gpuType": "T4"
    },
    "kernelspec": {
      "name": "python3",
      "display_name": "Python 3"
    },
    "language_info": {
      "name": "python"
    },
    "accelerator": "GPU"
  },
  "cells": [
    {
      "cell_type": "markdown",
      "source": [
        "# Фонин Максим Алексеевич, ИУ5-25М\n",
        "\n",
        "## Рубежный контроль №2\n",
        "\n",
        "### Тема: Методы обработки текстов\n",
        "\n",
        "### Решение задачи классификации текстов\n",
        "\n",
        "Необходимо решить задачу классификации текстов на основе любого выбранного Вами датасета (кроме примера, который рассматривался в лекции). Классификация может быть бинарной или многоклассовой. Целевой признак из выбранного Вами датасета может иметь любой физический смысл, примером является задача анализа тональности текста.\n",
        "\n",
        "Необходимо сформировать два варианта векторизации признаков - на основе CountVectorizer и на основе TfidfVectorizer.\n",
        "\n",
        "В качестве классификаторов необходимо использовать два классификатора по варианту для Вашей группы: ИУ5-25М, ИУ5И-25М, ИУ5-25МВ: SVC и LogisticRegression\n",
        "\n",
        "Датасет - https://www.kaggle.com/datasets/amananandrai/ag-news-classification-dataset"
      ],
      "metadata": {
        "id": "SBLZW10dNN__"
      }
    },
    {
      "cell_type": "code",
      "execution_count": null,
      "metadata": {
        "id": "XIFQwZ5_NHjB"
      },
      "outputs": [],
      "source": [
        "# Импорт библиотек\n",
        "import pandas as pd\n",
        "import numpy as np\n",
        "import matplotlib.pyplot as plt\n",
        "import seaborn as sns\n",
        "\n",
        "from sklearn.model_selection import train_test_split\n",
        "from sklearn.feature_extraction.text import CountVectorizer, TfidfVectorizer\n",
        "from sklearn.linear_model import LogisticRegression\n",
        "from sklearn.svm import SVC\n",
        "from sklearn.metrics import accuracy_score, classification_report, confusion_matrix"
      ]
    },
    {
      "cell_type": "markdown",
      "source": [
        "### Загрузка данных"
      ],
      "metadata": {
        "id": "-yev05THQGqx"
      }
    },
    {
      "cell_type": "code",
      "source": [
        "# Загрузка train и test\n",
        "train_df = pd.read_csv(\"/content/train.csv\", header=None)\n",
        "test_df = pd.read_csv(\"/content/test.csv\", header=None)\n",
        "\n",
        "# Названия колонок\n",
        "train_df.columns = ['label', 'title', 'description']\n",
        "test_df.columns = ['label', 'title', 'description']\n",
        "\n",
        "# Объединяем заголовок и описание\n",
        "X_train = train_df['title'] + \" \" + train_df['description']\n",
        "y_train = train_df['label'].astype(str)\n",
        "\n",
        "X_test = test_df['title'] + \" \" + test_df['description']\n",
        "y_test = test_df['label'].astype(str)\n",
        "\n",
        "# Просмотр классов\n",
        "print(\"Уникальные классы:\", sorted(y_train.unique()))"
      ],
      "metadata": {
        "colab": {
          "base_uri": "https://localhost:8080/"
        },
        "id": "3l8WeQrDPlGY",
        "outputId": "54f871b9-16c4-4355-df40-c0ea87b4fd92"
      },
      "execution_count": null,
      "outputs": [
        {
          "output_type": "stream",
          "name": "stdout",
          "text": [
            "Уникальные классы: ['1', '2', '3', '4', 'Class Index']\n"
          ]
        }
      ]
    },
    {
      "cell_type": "markdown",
      "source": [
        "### Векторизация"
      ],
      "metadata": {
        "id": "6fCqACKkQJZJ"
      }
    },
    {
      "cell_type": "code",
      "source": [
        "# CountVectorizer\n",
        "count_vectorizer = CountVectorizer()\n",
        "X_train_count = count_vectorizer.fit_transform(X_train)\n",
        "X_test_count = count_vectorizer.transform(X_test)\n",
        "\n",
        "# TfidfVectorizer\n",
        "tfidf_vectorizer = TfidfVectorizer()\n",
        "X_train_tfidf = tfidf_vectorizer.fit_transform(X_train)\n",
        "X_test_tfidf = tfidf_vectorizer.transform(X_test)"
      ],
      "metadata": {
        "id": "KZUUyj53PyLa"
      },
      "execution_count": null,
      "outputs": []
    },
    {
      "cell_type": "markdown",
      "source": [
        "### Logistic Regression"
      ],
      "metadata": {
        "id": "W6GENGLoQMw4"
      }
    },
    {
      "cell_type": "code",
      "source": [
        "# Count\n",
        "log_count = LogisticRegression(max_iter=1000)\n",
        "log_count.fit(X_train_count, y_train)\n",
        "y_pred_log_count = log_count.predict(X_test_count)\n",
        "\n",
        "# TF-IDF\n",
        "log_tfidf = LogisticRegression(max_iter=1000)\n",
        "log_tfidf.fit(X_train_tfidf, y_train)\n",
        "y_pred_log_tfidf = log_tfidf.predict(X_test_tfidf)"
      ],
      "metadata": {
        "id": "TvWQgZi0P4Ft"
      },
      "execution_count": null,
      "outputs": []
    },
    {
      "cell_type": "markdown",
      "source": [
        "### SVC"
      ],
      "metadata": {
        "id": "TmxiKrfoQQiG"
      }
    },
    {
      "cell_type": "code",
      "source": [
        "# Count\n",
        "svc_count = SVC()\n",
        "svc_count.fit(X_train_count[:10000], y_train[:10000])\n",
        "y_pred_svc_count = svc_count.predict(X_test_count[:10000])\n",
        "\n",
        "# TF-IDF\n",
        "svc_tfidf = SVC()\n",
        "svc_tfidf.fit(X_train_tfidf[:10000], y_train[:10000])\n",
        "y_pred_svc_tfidf = svc_tfidf.predict(X_test_tfidf[:10000])"
      ],
      "metadata": {
        "id": "_v60VgFdQSYf"
      },
      "execution_count": null,
      "outputs": []
    },
    {
      "cell_type": "markdown",
      "source": [
        "### Оценка"
      ],
      "metadata": {
        "id": "MW-U8lSCQU7c"
      }
    },
    {
      "cell_type": "code",
      "source": [
        "def evaluate_model(name, y_true, y_pred):\n",
        "    print(f\"\\n==== {name} ====\")\n",
        "    print(\"Accuracy:\", accuracy_score(y_true, y_pred))\n",
        "    print(classification_report(y_true, y_pred))\n",
        "\n",
        "evaluate_model(\"Logistic Regression (Count)\", y_test, y_pred_log_count)\n",
        "evaluate_model(\"Logistic Regression (TF-IDF)\", y_test, y_pred_log_tfidf)\n",
        "evaluate_model(\"SVC (Count)\", y_test, y_pred_svc_count)\n",
        "evaluate_model(\"SVC (TF-IDF)\", y_test, y_pred_svc_tfidf)"
      ],
      "metadata": {
        "colab": {
          "base_uri": "https://localhost:8080/"
        },
        "id": "zuYRwy0aQWUt",
        "outputId": "a4b6a6c4-6120-4d74-cc76-c10c8ab5cb1f"
      },
      "execution_count": null,
      "outputs": [
        {
          "output_type": "stream",
          "name": "stdout",
          "text": [
            "\n",
            "==== Logistic Regression (Count) ====\n",
            "Accuracy: 0.9088277858176556\n",
            "              precision    recall  f1-score   support\n",
            "\n",
            "           1       0.92      0.90      0.91      1900\n",
            "           2       0.96      0.97      0.96      1900\n",
            "           3       0.88      0.87      0.88      1900\n",
            "           4       0.89      0.89      0.89      1900\n",
            " Class Index       0.00      0.00      0.00         1\n",
            "\n",
            "    accuracy                           0.91      7601\n",
            "   macro avg       0.73      0.73      0.73      7601\n",
            "weighted avg       0.91      0.91      0.91      7601\n",
            "\n",
            "\n",
            "==== Logistic Regression (TF-IDF) ====\n",
            "Accuracy: 0.9193527167477964\n",
            "              precision    recall  f1-score   support\n",
            "\n",
            "           1       0.93      0.91      0.92      1900\n",
            "           2       0.96      0.98      0.97      1900\n",
            "           3       0.89      0.88      0.89      1900\n",
            "           4       0.90      0.91      0.90      1900\n",
            " Class Index       0.00      0.00      0.00         1\n",
            "\n",
            "    accuracy                           0.92      7601\n",
            "   macro avg       0.74      0.74      0.74      7601\n",
            "weighted avg       0.92      0.92      0.92      7601\n",
            "\n",
            "\n",
            "==== SVC (Count) ====\n",
            "Accuracy: 0.842389159321142\n",
            "              precision    recall  f1-score   support\n",
            "\n",
            "           1       0.86      0.84      0.85      1900\n",
            "           2       0.91      0.90      0.91      1900\n",
            "           3       0.86      0.76      0.81      1900\n",
            "           4       0.76      0.87      0.81      1900\n",
            " Class Index       0.00      0.00      0.00         1\n",
            "\n",
            "    accuracy                           0.84      7601\n",
            "   macro avg       0.68      0.67      0.67      7601\n",
            "weighted avg       0.85      0.84      0.84      7601\n",
            "\n",
            "\n",
            "==== SVC (TF-IDF) ====\n",
            "Accuracy: 0.8571240626233391\n"
          ]
        },
        {
          "output_type": "stream",
          "name": "stderr",
          "text": [
            "/usr/local/lib/python3.11/dist-packages/sklearn/metrics/_classification.py:1565: UndefinedMetricWarning: Precision is ill-defined and being set to 0.0 in labels with no predicted samples. Use `zero_division` parameter to control this behavior.\n",
            "  _warn_prf(average, modifier, f\"{metric.capitalize()} is\", len(result))\n",
            "/usr/local/lib/python3.11/dist-packages/sklearn/metrics/_classification.py:1565: UndefinedMetricWarning: Precision is ill-defined and being set to 0.0 in labels with no predicted samples. Use `zero_division` parameter to control this behavior.\n",
            "  _warn_prf(average, modifier, f\"{metric.capitalize()} is\", len(result))\n",
            "/usr/local/lib/python3.11/dist-packages/sklearn/metrics/_classification.py:1565: UndefinedMetricWarning: Precision is ill-defined and being set to 0.0 in labels with no predicted samples. Use `zero_division` parameter to control this behavior.\n",
            "  _warn_prf(average, modifier, f\"{metric.capitalize()} is\", len(result))\n",
            "/usr/local/lib/python3.11/dist-packages/sklearn/metrics/_classification.py:1565: UndefinedMetricWarning: Precision is ill-defined and being set to 0.0 in labels with no predicted samples. Use `zero_division` parameter to control this behavior.\n",
            "  _warn_prf(average, modifier, f\"{metric.capitalize()} is\", len(result))\n",
            "/usr/local/lib/python3.11/dist-packages/sklearn/metrics/_classification.py:1565: UndefinedMetricWarning: Precision is ill-defined and being set to 0.0 in labels with no predicted samples. Use `zero_division` parameter to control this behavior.\n",
            "  _warn_prf(average, modifier, f\"{metric.capitalize()} is\", len(result))\n",
            "/usr/local/lib/python3.11/dist-packages/sklearn/metrics/_classification.py:1565: UndefinedMetricWarning: Precision is ill-defined and being set to 0.0 in labels with no predicted samples. Use `zero_division` parameter to control this behavior.\n",
            "  _warn_prf(average, modifier, f\"{metric.capitalize()} is\", len(result))\n",
            "/usr/local/lib/python3.11/dist-packages/sklearn/metrics/_classification.py:1565: UndefinedMetricWarning: Precision is ill-defined and being set to 0.0 in labels with no predicted samples. Use `zero_division` parameter to control this behavior.\n",
            "  _warn_prf(average, modifier, f\"{metric.capitalize()} is\", len(result))\n",
            "/usr/local/lib/python3.11/dist-packages/sklearn/metrics/_classification.py:1565: UndefinedMetricWarning: Precision is ill-defined and being set to 0.0 in labels with no predicted samples. Use `zero_division` parameter to control this behavior.\n",
            "  _warn_prf(average, modifier, f\"{metric.capitalize()} is\", len(result))\n",
            "/usr/local/lib/python3.11/dist-packages/sklearn/metrics/_classification.py:1565: UndefinedMetricWarning: Precision is ill-defined and being set to 0.0 in labels with no predicted samples. Use `zero_division` parameter to control this behavior.\n",
            "  _warn_prf(average, modifier, f\"{metric.capitalize()} is\", len(result))\n",
            "/usr/local/lib/python3.11/dist-packages/sklearn/metrics/_classification.py:1565: UndefinedMetricWarning: Precision is ill-defined and being set to 0.0 in labels with no predicted samples. Use `zero_division` parameter to control this behavior.\n",
            "  _warn_prf(average, modifier, f\"{metric.capitalize()} is\", len(result))\n"
          ]
        },
        {
          "output_type": "stream",
          "name": "stdout",
          "text": [
            "              precision    recall  f1-score   support\n",
            "\n",
            "           1       0.88      0.87      0.87      1900\n",
            "           2       0.93      0.91      0.92      1900\n",
            "           3       0.88      0.75      0.81      1900\n",
            "           4       0.76      0.90      0.82      1900\n",
            " Class Index       0.00      0.00      0.00         1\n",
            "\n",
            "    accuracy                           0.86      7601\n",
            "   macro avg       0.69      0.69      0.69      7601\n",
            "weighted avg       0.86      0.86      0.86      7601\n",
            "\n"
          ]
        },
        {
          "output_type": "stream",
          "name": "stderr",
          "text": [
            "/usr/local/lib/python3.11/dist-packages/sklearn/metrics/_classification.py:1565: UndefinedMetricWarning: Precision is ill-defined and being set to 0.0 in labels with no predicted samples. Use `zero_division` parameter to control this behavior.\n",
            "  _warn_prf(average, modifier, f\"{metric.capitalize()} is\", len(result))\n",
            "/usr/local/lib/python3.11/dist-packages/sklearn/metrics/_classification.py:1565: UndefinedMetricWarning: Precision is ill-defined and being set to 0.0 in labels with no predicted samples. Use `zero_division` parameter to control this behavior.\n",
            "  _warn_prf(average, modifier, f\"{metric.capitalize()} is\", len(result))\n"
          ]
        }
      ]
    },
    {
      "cell_type": "markdown",
      "source": [
        "### Confusion Matrix"
      ],
      "metadata": {
        "id": "0G84zMGAQaTc"
      }
    },
    {
      "cell_type": "code",
      "source": [
        "def plot_conf_matrix(y_true, y_pred, title):\n",
        "    labels = sorted(y_test.unique())\n",
        "    cm = confusion_matrix(y_true, y_pred, labels=labels)\n",
        "\n",
        "    plt.figure(figsize=(8,6))\n",
        "    sns.heatmap(cm, annot=True, fmt=\"d\", cmap=\"Blues\",\n",
        "                xticklabels=labels, yticklabels=labels)\n",
        "    plt.title(title)\n",
        "    plt.xlabel(\"Predicted\")\n",
        "    plt.ylabel(\"True\")\n",
        "    plt.show()\n",
        "\n",
        "plot_conf_matrix(y_test, y_pred_log_tfidf, \"Logistic Regression (TF-IDF)\")"
      ],
      "metadata": {
        "colab": {
          "base_uri": "https://localhost:8080/",
          "height": 564
        },
        "id": "aQ1kdI6vQbcD",
        "outputId": "241c2cb0-1b20-42cc-f489-8753a6d8d3b4"
      },
      "execution_count": null,
      "outputs": [
        {
          "output_type": "display_data",
          "data": {
            "text/plain": [
              "<Figure size 800x600 with 2 Axes>"
            ],
            "image/png": "[encoded data removed]"
          },
          "metadata": {}
        }
      ]
    }
  ]
}